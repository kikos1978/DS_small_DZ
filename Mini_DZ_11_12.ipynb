{
  "nbformat": 4,
  "nbformat_minor": 0,
  "metadata": {
    "colab": {
      "name": "Mini DZ 10-11 Popov-MV.ipynb\"",
      "provenance": [],
      "collapsed_sections": []
    },
    "kernelspec": {
      "name": "python3",
      "display_name": "Python 3"
    },
    "language_info": {
      "name": "python"
    }
  },
  "cells": [
    {
      "cell_type": "markdown",
      "source": [
        "# Градиентный бустинг для Классификации"
      ],
      "metadata": {
        "id": "JxMVMCFLCnS3"
      }
    },
    {
      "cell_type": "markdown",
      "source": [
        "В текущем ДЗ Вам предстоит ознакомиться и попрактиковаться с реализацией градиентного бустинга на примере"
      ],
      "metadata": {
        "id": "9pZ3lxBiQMlQ"
      }
    },
    {
      "cell_type": "markdown",
      "source": [
        "## Создадим искусственный сет для классификации"
      ],
      "metadata": {
        "id": "0JD-ace2CaJV"
      }
    },
    {
      "cell_type": "code",
      "source": [
        "from sklearn.datasets import make_classification\n",
        "import numpy as np\n",
        "import pandas as pd\n",
        "import matplotlib.pyplot as plt\n",
        "import seaborn as sns"
      ],
      "metadata": {
        "id": "2IWvw0X6DI0Y"
      },
      "execution_count": null,
      "outputs": []
    },
    {
      "cell_type": "code",
      "source": [
        "# define dataset\n",
        "X, y = make_classification(n_samples=1000, n_features=10, n_informative=5, n_redundant=5, random_state=1, weights = [0.3])\n",
        "# summarize the dataset\n",
        "print(X.shape, y.shape)"
      ],
      "metadata": {
        "colab": {
          "base_uri": "https://localhost:8080/"
        },
        "id": "MBzIxOT3DGf8",
        "outputId": "4fb9bbf5-6ac3-4f4e-8068-da4ada8f0f73"
      },
      "execution_count": null,
      "outputs": [
        {
          "output_type": "stream",
          "name": "stdout",
          "text": [
            "(1000, 10) (1000,)\n"
          ]
        }
      ]
    },
    {
      "cell_type": "markdown",
      "source": [
        "## Задание 0. (0.5 балла)\n",
        "Оцените количество уникальных классов в выборки и их количество. Ответ выведите ниже. Является ли выборка сбалансированной?"
      ],
      "metadata": {
        "id": "SzmsUTT9JnfL"
      }
    },
    {
      "cell_type": "markdown",
      "source": [
        "***Непонятно как можно оценить количество уникальных классов в выборки и их количество? Это массив из чисел, распределенных нормально (видно на графике),что в принципе очевидно, поскольку создан с помощь random***\n",
        "\n"
      ],
      "metadata": {
        "id": "TkccKjjE2Tzv"
      }
    },
    {
      "cell_type": "code",
      "source": [
        "X"
      ],
      "metadata": {
        "colab": {
          "base_uri": "https://localhost:8080/"
        },
        "id": "fA5aMISf0AvU",
        "outputId": "07d50713-78e6-4ab2-8b0a-d67bbba72e4f"
      },
      "execution_count": null,
      "outputs": [
        {
          "output_type": "execute_result",
          "data": {
            "text/plain": [
              "array([[ 2.56999479e+00, -1.30199971e-01,  3.16075093e+00, ...,\n",
              "        -1.93094078e+00,  3.26130366e+00,  2.05692145e+00],\n",
              "       [ 3.41293174e-01,  2.51321418e+00, -8.04165720e-01, ...,\n",
              "         6.24734437e+00, -1.92769365e+00,  2.95031490e+00],\n",
              "       [ 2.27539972e+00,  3.36561455e+00,  1.71643620e-01, ...,\n",
              "         2.74693781e+00,  1.34924444e-01,  2.00339547e+00],\n",
              "       ...,\n",
              "       [ 5.69904851e-03, -3.15552113e+00,  3.02233214e+00, ...,\n",
              "        -3.27700667e+00,  2.45496810e+00,  6.96787847e-01],\n",
              "       [ 3.38493810e+00,  2.41530402e+00,  7.24064143e-01, ...,\n",
              "         3.30819200e+00, -6.90563694e-01,  2.86203300e+00],\n",
              "       [-9.85342988e-01,  8.39190472e-01,  2.58208030e+00, ...,\n",
              "         3.04705685e+00,  6.68856406e-01,  3.32838496e+00]])"
            ]
          },
          "metadata": {},
          "execution_count": 61
        }
      ]
    },
    {
      "cell_type": "code",
      "source": [
        "sns.histplot(X)"
      ],
      "metadata": {
        "colab": {
          "base_uri": "https://localhost:8080/",
          "height": 282
        },
        "id": "txrDOUCM3T61",
        "outputId": "89838d8b-fcfc-45e1-9852-86ccad386859"
      },
      "execution_count": null,
      "outputs": [
        {
          "output_type": "execute_result",
          "data": {
            "text/plain": [
              "<matplotlib.axes._subplots.AxesSubplot at 0x7f1c5d054810>"
            ]
          },
          "metadata": {},
          "execution_count": 72
        },
        {
          "output_type": "display_data",
          "data": {
            "image/png": "[encoded data removed]",
            "text/plain": [
              "<Figure size 432x288 with 1 Axes>"
            ]
          },
          "metadata": {
            "needs_background": "light"
          }
        }
      ]
    },
    {
      "cell_type": "code",
      "source": [
        "X_df = pd.DataFrame(data=X)"
      ],
      "metadata": {
        "id": "gCi2GvosJyql"
      },
      "execution_count": null,
      "outputs": []
    },
    {
      "cell_type": "markdown",
      "source": [
        "***Переделаем в DataFrame  и посмотрим что здесь можно увидеть:***"
      ],
      "metadata": {
        "id": "m9lB0UYx2zlV"
      }
    },
    {
      "cell_type": "code",
      "source": [
        "X_df.describe()"
      ],
      "metadata": {
        "colab": {
          "base_uri": "https://localhost:8080/",
          "height": 300
        },
        "id": "tDcPeUd5erij",
        "outputId": "9f72996a-52c8-41a6-d05a-f178e1fe6f3c"
      },
      "execution_count": null,
      "outputs": [
        {
          "output_type": "execute_result",
          "data": {
            "text/html": [
              "\n",
              "  <div id=\"df-4674da5a-e8f1-43f5-92ce-66f89279719e\">\n",
              "    <div class=\"colab-df-container\">\n",
              "      <div>\n",
              "<style scoped>\n",
              "    .dataframe tbody tr th:only-of-type {\n",
              "        vertical-align: middle;\n",
              "    }\n",
              "\n",
              "    .dataframe tbody tr th {\n",
              "        vertical-align: top;\n",
              "    }\n",
              "\n",
              "    .dataframe thead th {\n",
              "        text-align: right;\n",
              "    }\n",
              "</style>\n",
              "<table border=\"1\" class=\"dataframe\">\n",
              "  <thead>\n",
              "    <tr style=\"text-align: right;\">\n",
              "      <th></th>\n",
              "      <th>0</th>\n",
              "      <th>1</th>\n",
              "      <th>2</th>\n",
              "      <th>3</th>\n",
              "      <th>4</th>\n",
              "      <th>5</th>\n",
              "      <th>6</th>\n",
              "      <th>7</th>\n",
              "      <th>8</th>\n",
              "      <th>9</th>\n",
              "    </tr>\n",
              "  </thead>\n",
              "  <tbody>\n",
              "    <tr>\n",
              "      <th>count</th>\n",
              "      <td>1000.000000</td>\n",
              "      <td>1000.000000</td>\n",
              "      <td>1000.000000</td>\n",
              "      <td>1000.000000</td>\n",
              "      <td>1000.000000</td>\n",
              "      <td>1000.000000</td>\n",
              "      <td>1000.000000</td>\n",
              "      <td>1000.000000</td>\n",
              "      <td>1000.000000</td>\n",
              "      <td>1000.000000</td>\n",
              "    </tr>\n",
              "    <tr>\n",
              "      <th>mean</th>\n",
              "      <td>0.890556</td>\n",
              "      <td>0.232020</td>\n",
              "      <td>0.685109</td>\n",
              "      <td>-0.703394</td>\n",
              "      <td>0.164055</td>\n",
              "      <td>-0.781005</td>\n",
              "      <td>-0.722015</td>\n",
              "      <td>0.593716</td>\n",
              "      <td>-0.000062</td>\n",
              "      <td>0.953890</td>\n",
              "    </tr>\n",
              "    <tr>\n",
              "      <th>std</th>\n",
              "      <td>2.099229</td>\n",
              "      <td>1.658484</td>\n",
              "      <td>1.210203</td>\n",
              "      <td>2.072775</td>\n",
              "      <td>1.500219</td>\n",
              "      <td>1.531648</td>\n",
              "      <td>1.537701</td>\n",
              "      <td>2.679353</td>\n",
              "      <td>1.399431</td>\n",
              "      <td>1.488838</td>\n",
              "    </tr>\n",
              "    <tr>\n",
              "      <th>min</th>\n",
              "      <td>-6.281683</td>\n",
              "      <td>-6.016746</td>\n",
              "      <td>-3.737073</td>\n",
              "      <td>-8.233174</td>\n",
              "      <td>-5.689715</td>\n",
              "      <td>-4.921054</td>\n",
              "      <td>-5.456559</td>\n",
              "      <td>-8.350599</td>\n",
              "      <td>-3.554258</td>\n",
              "      <td>-3.896057</td>\n",
              "    </tr>\n",
              "    <tr>\n",
              "      <th>25%</th>\n",
              "      <td>-0.490369</td>\n",
              "      <td>-0.737982</td>\n",
              "      <td>-0.072815</td>\n",
              "      <td>-1.930141</td>\n",
              "      <td>-0.903596</td>\n",
              "      <td>-1.859141</td>\n",
              "      <td>-1.812578</td>\n",
              "      <td>-1.227914</td>\n",
              "      <td>-1.067720</td>\n",
              "      <td>-0.046580</td>\n",
              "    </tr>\n",
              "    <tr>\n",
              "      <th>50%</th>\n",
              "      <td>0.884721</td>\n",
              "      <td>0.496911</td>\n",
              "      <td>0.535416</td>\n",
              "      <td>-0.247966</td>\n",
              "      <td>0.198079</td>\n",
              "      <td>-0.703296</td>\n",
              "      <td>-0.802294</td>\n",
              "      <td>0.661021</td>\n",
              "      <td>-0.087370</td>\n",
              "      <td>0.994666</td>\n",
              "    </tr>\n",
              "    <tr>\n",
              "      <th>75%</th>\n",
              "      <td>2.358449</td>\n",
              "      <td>1.403285</td>\n",
              "      <td>1.553949</td>\n",
              "      <td>0.837058</td>\n",
              "      <td>1.213610</td>\n",
              "      <td>0.243098</td>\n",
              "      <td>0.176575</td>\n",
              "      <td>2.461927</td>\n",
              "      <td>1.080707</td>\n",
              "      <td>1.997766</td>\n",
              "    </tr>\n",
              "    <tr>\n",
              "      <th>max</th>\n",
              "      <td>6.868252</td>\n",
              "      <td>3.937792</td>\n",
              "      <td>4.595307</td>\n",
              "      <td>3.972222</td>\n",
              "      <td>4.188797</td>\n",
              "      <td>4.053637</td>\n",
              "      <td>5.089334</td>\n",
              "      <td>8.035176</td>\n",
              "      <td>3.781765</td>\n",
              "      <td>4.979226</td>\n",
              "    </tr>\n",
              "  </tbody>\n",
              "</table>\n",
              "</div>\n",
              "      <button class=\"colab-df-convert\" onclick=\"convertToInteractive('df-4674da5a-e8f1-43f5-92ce-66f89279719e')\"\n",
              "              title=\"Convert this dataframe to an interactive table.\"\n",
              "              style=\"display:none;\">\n",
              "        \n",
              "  <svg xmlns=\"http://www.w3.org/2000/svg\" height=\"24px\"viewBox=\"0 0 24 24\"\n",
              "       width=\"24px\">\n",
              "    <path d=\"M0 0h24v24H0V0z\" fill=\"none\"/>\n",
              "    <path d=\"M18.56 5.44l.94 2.06.94-2.06 2.06-.94-2.06-.94-.94-2.06-.94 2.06-2.06.94zm-11 1L8.5 8.5l.94-2.06 2.06-.94-2.06-.94L8.5 2.5l-.94 2.06-2.06.94zm10 10l.94 2.06.94-2.06 2.06-.94-2.06-.94-.94-2.06-.94 2.06-2.06.94z\"/><path d=\"M17.41 7.96l-1.37-1.37c-.4-.4-.92-.59-1.43-.59-.52 0-1.04.2-1.43.59L10.3 9.45l-7.72 7.72c-.78.78-.78 2.05 0 2.83L4 21.41c.39.39.9.59 1.41.59.51 0 1.02-.2 1.41-.59l7.78-7.78 2.81-2.81c.8-.78.8-2.07 0-2.86zM5.41 20L4 18.59l7.72-7.72 1.47 1.35L5.41 20z\"/>\n",
              "  </svg>\n",
              "      </button>\n",
              "      \n",
              "  <style>\n",
              "    .colab-df-container {\n",
              "      display:flex;\n",
              "      flex-wrap:wrap;\n",
              "      gap: 12px;\n",
              "    }\n",
              "\n",
              "    .colab-df-convert {\n",
              "      background-color: #E8F0FE;\n",
              "      border: none;\n",
              "      border-radius: 50%;\n",
              "      cursor: pointer;\n",
              "      display: none;\n",
              "      fill: #1967D2;\n",
              "      height: 32px;\n",
              "      padding: 0 0 0 0;\n",
              "      width: 32px;\n",
              "    }\n",
              "\n",
              "    .colab-df-convert:hover {\n",
              "      background-color: #E2EBFA;\n",
              "      box-shadow: 0px 1px 2px rgba(60, 64, 67, 0.3), 0px 1px 3px 1px rgba(60, 64, 67, 0.15);\n",
              "      fill: #174EA6;\n",
              "    }\n",
              "\n",
              "    [theme=dark] .colab-df-convert {\n",
              "      background-color: #3B4455;\n",
              "      fill: #D2E3FC;\n",
              "    }\n",
              "\n",
              "    [theme=dark] .colab-df-convert:hover {\n",
              "      background-color: #434B5C;\n",
              "      box-shadow: 0px 1px 3px 1px rgba(0, 0, 0, 0.15);\n",
              "      filter: drop-shadow(0px 1px 2px rgba(0, 0, 0, 0.3));\n",
              "      fill: #FFFFFF;\n",
              "    }\n",
              "  </style>\n",
              "\n",
              "      <script>\n",
              "        const buttonEl =\n",
              "          document.querySelector('#df-4674da5a-e8f1-43f5-92ce-66f89279719e button.colab-df-convert');\n",
              "        buttonEl.style.display =\n",
              "          google.colab.kernel.accessAllowed ? 'block' : 'none';\n",
              "\n",
              "        async function convertToInteractive(key) {\n",
              "          const element = document.querySelector('#df-4674da5a-e8f1-43f5-92ce-66f89279719e');\n",
              "          const dataTable =\n",
              "            await google.colab.kernel.invokeFunction('convertToInteractive',\n",
              "                                                     [key], {});\n",
              "          if (!dataTable) return;\n",
              "\n",
              "          const docLinkHtml = 'Like what you see? Visit the ' +\n",
              "            '<a target=\"_blank\" href=https://colab.research.google.com/notebooks/data_table.ipynb>data table notebook</a>'\n",
              "            + ' to learn more about interactive tables.';\n",
              "          element.innerHTML = '';\n",
              "          dataTable['output_type'] = 'display_data';\n",
              "          await google.colab.output.renderOutput(dataTable, element);\n",
              "          const docLink = document.createElement('div');\n",
              "          docLink.innerHTML = docLinkHtml;\n",
              "          element.appendChild(docLink);\n",
              "        }\n",
              "      </script>\n",
              "    </div>\n",
              "  </div>\n",
              "  "
            ],
            "text/plain": [
              "                 0            1  ...            8            9\n",
              "count  1000.000000  1000.000000  ...  1000.000000  1000.000000\n",
              "mean      0.890556     0.232020  ...    -0.000062     0.953890\n",
              "std       2.099229     1.658484  ...     1.399431     1.488838\n",
              "min      -6.281683    -6.016746  ...    -3.554258    -3.896057\n",
              "25%      -0.490369    -0.737982  ...    -1.067720    -0.046580\n",
              "50%       0.884721     0.496911  ...    -0.087370     0.994666\n",
              "75%       2.358449     1.403285  ...     1.080707     1.997766\n",
              "max       6.868252     3.937792  ...     3.781765     4.979226\n",
              "\n",
              "[8 rows x 10 columns]"
            ]
          },
          "metadata": {},
          "execution_count": 29
        }
      ]
    },
    {
      "cell_type": "markdown",
      "source": [
        "### Задание 1. (1 балл)\n",
        "1. Выполните кросс-валидацию со стратификацией.\n",
        "\n",
        "Для этого сперва необходимо инициализировать метод RepeatedStratifiedKFold со следующими параметрами: n_splits=10, n_repeats=3, random_state=1. \n",
        "\n",
        "Затем инициализировать метод cross_val_score (сохраните его в переменную n_scores), передать в него вашу модель, X, y и cv=cv, где cv это инициализированный ранее RepeatedStratifiedKFold. Также укажите n_jobs = -1 и error_score='raise'."
      ],
      "metadata": {
        "id": "hd4XlQT7DbTq"
      }
    },
    {
      "cell_type": "code",
      "source": [
        "# gradient boosting for classification in scikit-learn\n",
        "from numpy import mean\n",
        "from numpy import std"
      ],
      "metadata": {
        "id": "QN3Xm3u8HXZ1"
      },
      "execution_count": null,
      "outputs": []
    },
    {
      "cell_type": "code",
      "source": [
        "from sklearn.model_selection import cross_val_score\n",
        "from sklearn.model_selection import RepeatedStratifiedKFold\n",
        "from sklearn.ensemble import GradientBoostingClassifier"
      ],
      "metadata": {
        "id": "hqycebNMFfbs"
      },
      "execution_count": null,
      "outputs": []
    },
    {
      "cell_type": "code",
      "source": [
        "model = GradientBoostingClassifier()\n",
        "cv = RepeatedStratifiedKFold(n_splits=10, n_repeats=3, random_state=1)\n",
        "n_scores = cross_val_score(model, X, y, scoring='accuracy', cv=cv, n_jobs=-1, error_score='raise')\n",
        "print('Accuracy: %.3f (%.3f)' % (mean(n_scores), std(n_scores)))"
      ],
      "metadata": {
        "colab": {
          "base_uri": "https://localhost:8080/"
        },
        "id": "jLhJ-MxYCuwX",
        "outputId": "c43712f3-b6ff-45f2-8d18-c0fd70acc01c"
      },
      "execution_count": null,
      "outputs": [
        {
          "output_type": "stream",
          "name": "stdout",
          "text": [
            "Accuracy: 0.919 (0.028)\n"
          ]
        }
      ]
    },
    {
      "cell_type": "markdown",
      "source": [
        "### Задание 2. (6 заданий по 0,5 балла)\n",
        "1. Разделите ваш датасет (X,y) на тренировочную и тестовые выборки c test_size=0.2, random_state=1."
      ],
      "metadata": {
        "id": "U5lSuApCGJuh"
      }
    },
    {
      "cell_type": "code",
      "source": [
        "from sklearn.model_selection import train_test_split\n",
        "from sklearn.metrics import confusion_matrix\n",
        "from sklearn.metrics import roc_auc_score\n",
        "from sklearn.metrics import f1_score\n",
        "from sklearn.metrics import make_scorer"
      ],
      "metadata": {
        "id": "CEcbpeupGYmI"
      },
      "execution_count": null,
      "outputs": []
    },
    {
      "cell_type": "code",
      "source": [
        "X_train, X_val, y_train, y_val = train_test_split(X, y, test_size=0.2, random_state=1)"
      ],
      "metadata": {
        "id": "t2Gq1_GXGT5T"
      },
      "execution_count": null,
      "outputs": []
    },
    {
      "cell_type": "markdown",
      "source": [
        "2. Инициализируйте модель GradientBoostingClassifier"
      ],
      "metadata": {
        "id": "htdaZw7KGh8s"
      }
    },
    {
      "cell_type": "code",
      "source": [
        "model = GradientBoostingClassifier()"
      ],
      "metadata": {
        "id": "fRWxUG6iGT9e"
      },
      "execution_count": null,
      "outputs": []
    },
    {
      "cell_type": "markdown",
      "source": [
        "3. Обучите модель при помощи метода fit() на тренировочных данных (пока не указывайте дополнительных настроек модели, передайте в метод только X_train, y_train)"
      ],
      "metadata": {
        "id": "p7cWkCPLGwnV"
      }
    },
    {
      "cell_type": "code",
      "source": [
        "model.fit(X_train, y_train)"
      ],
      "metadata": {
        "id": "nxd_HAIQGhbO",
        "colab": {
          "base_uri": "https://localhost:8080/"
        },
        "outputId": "25111977-6f86-4796-afe1-a3051c264c23"
      },
      "execution_count": null,
      "outputs": [
        {
          "output_type": "execute_result",
          "data": {
            "text/plain": [
              "GradientBoostingClassifier()"
            ]
          },
          "metadata": {},
          "execution_count": 36
        }
      ]
    },
    {
      "cell_type": "markdown",
      "source": [
        "4. Сделайте предсказания при помощи метода predict на тестовом наборе данных и сохраните предсказания в переменную y_predicted"
      ],
      "metadata": {
        "id": "_8jyGcJ1Hs2A"
      }
    },
    {
      "cell_type": "code",
      "source": [
        "y_predicted = model.predict(X_val)"
      ],
      "metadata": {
        "id": "e9hDRIE6Ghfp"
      },
      "execution_count": null,
      "outputs": []
    },
    {
      "cell_type": "markdown",
      "source": [
        "5. При помощи метода confusion_matrix из sklearn выведите матрицу ошибок алгоритма на тестовом наборе данных (между y_test и y_predicted). Можете (по желанию) ее визуализировать при помощи библиотеки seaborn - сиборн удобен для визуализации матриц ошибок."
      ],
      "metadata": {
        "id": "t-rMxc7gIBU8"
      }
    },
    {
      "cell_type": "code",
      "source": [
        "confusion_matrix(y_val, y_predicted)"
      ],
      "metadata": {
        "id": "gA6JWMANGhnF",
        "colab": {
          "base_uri": "https://localhost:8080/"
        },
        "outputId": "bf359c19-8df7-4e0b-da49-6ce93ee70bf2"
      },
      "execution_count": null,
      "outputs": [
        {
          "output_type": "execute_result",
          "data": {
            "text/plain": [
              "array([[ 45,  13],\n",
              "       [  9, 133]])"
            ]
          },
          "metadata": {},
          "execution_count": 40
        }
      ]
    },
    {
      "cell_type": "markdown",
      "source": [
        "6. Посчитайте метрику ROC AUC и F1 score на тестовом наборе данных (между y_test и y_predicted)"
      ],
      "metadata": {
        "id": "zjZEFJWOJLce"
      }
    },
    {
      "cell_type": "code",
      "source": [
        "roc_auc_score(y_val, y_predicted)"
      ],
      "metadata": {
        "id": "SkTGELmqJj1h",
        "colab": {
          "base_uri": "https://localhost:8080/"
        },
        "outputId": "7610bd9a-e068-4013-e326-505bb0a1af09"
      },
      "execution_count": null,
      "outputs": [
        {
          "output_type": "execute_result",
          "data": {
            "text/plain": [
              "0.8562408936376881"
            ]
          },
          "metadata": {},
          "execution_count": 42
        }
      ]
    },
    {
      "cell_type": "code",
      "source": [
        "f1_score(y_val, y_predicted)"
      ],
      "metadata": {
        "colab": {
          "base_uri": "https://localhost:8080/"
        },
        "id": "eKxR4Lq8smp6",
        "outputId": "6a3249e6-33aa-4c46-ce17-30605813b51f"
      },
      "execution_count": null,
      "outputs": [
        {
          "output_type": "execute_result",
          "data": {
            "text/plain": [
              "0.9236111111111112"
            ]
          },
          "metadata": {},
          "execution_count": 43
        }
      ]
    },
    {
      "cell_type": "markdown",
      "source": [
        "## Задание 3 (3 балла)\n",
        "\n",
        "До этого мы пользовались с Вами методом \"из коробки\". Это не есть хорошо, поэтому поиграйте с настройками гиперпараметров алгоритма (https://scikit-learn.org/stable/modules/generated/sklearn.ensemble.GradientBoostingClassifier.html), чтобы улучшить вид confusion matrix, а также roc_auc_score и f1_score"
      ],
      "metadata": {
        "id": "g-a266VwIncU"
      }
    },
    {
      "cell_type": "code",
      "source": [
        "model_0 = GradientBoostingClassifier(loss='deviance',\n",
        "                                   learning_rate=0.1,\n",
        "                                   n_estimators=100,\n",
        "                                   subsample=1,\n",
        "                                   min_samples_split=2,\n",
        "                                   max_depth=2\n",
        "                                   )"
      ],
      "metadata": {
        "id": "qLljM2J0KAkQ"
      },
      "execution_count": null,
      "outputs": []
    },
    {
      "cell_type": "markdown",
      "source": [
        "***Стартовые значения \"из коробки\"***"
      ],
      "metadata": {
        "id": "Z5qFBGJo7xPc"
      }
    },
    {
      "cell_type": "code",
      "source": [
        "model_0.fit(X_train, y_train)\n",
        "y_predicted = model_0.predict(X_val)\n",
        "print('cof_matrix: ', confusion_matrix(y_val, y_predicted))\n",
        "print('roc_auc_score: ', roc_auc_score(y_val, y_predicted))\n",
        "print('f1_score: ', f1_score(y_val, y_predicted))"
      ],
      "metadata": {
        "colab": {
          "base_uri": "https://localhost:8080/"
        },
        "id": "1O_ardT9vbQX",
        "outputId": "29c6c351-beef-4b46-b01b-6b391782d15e"
      },
      "execution_count": null,
      "outputs": [
        {
          "output_type": "stream",
          "name": "stdout",
          "text": [
            "cof_matrix:  [[ 40  18]\n",
            " [ 10 132]]\n",
            "roc_auc_score:  0.8096163186012628\n",
            "f1_score:  0.9041095890410958\n"
          ]
        }
      ]
    },
    {
      "cell_type": "code",
      "source": [
        "model_1 = GradientBoostingClassifier(loss='deviance',\n",
        "                                   learning_rate=0.1,\n",
        "                                   n_estimators=100,\n",
        "                                   subsample=1,\n",
        "                                   min_samples_split=2,\n",
        "                                   max_depth=8\n",
        "                                   )"
      ],
      "metadata": {
        "id": "n1XA9hyL7TEK"
      },
      "execution_count": null,
      "outputs": []
    },
    {
      "cell_type": "markdown",
      "source": [
        "***Увеличили глубину \"max_depth\"***"
      ],
      "metadata": {
        "id": "c5tPYWI78z14"
      }
    },
    {
      "cell_type": "code",
      "source": [
        "model_1.fit(X_train, y_train)\n",
        "y_predicted = model_1.predict(X_val)\n",
        "print('cof_matrix: ', confusion_matrix(y_val, y_predicted))\n",
        "print('roc_auc_score: ', roc_auc_score(y_val, y_predicted))\n",
        "print('f1_score: ', f1_score(y_val, y_predicted))"
      ],
      "metadata": {
        "colab": {
          "base_uri": "https://localhost:8080/"
        },
        "id": "93ZttbLW7VHB",
        "outputId": "11b85342-6b1e-43e1-c878-988dc977ddb9"
      },
      "execution_count": null,
      "outputs": [
        {
          "output_type": "stream",
          "name": "stdout",
          "text": [
            "cof_matrix:  [[ 49   9]\n",
            " [  7 135]]\n",
            "roc_auc_score:  0.8977659057795047\n",
            "f1_score:  0.9440559440559442\n"
          ]
        }
      ]
    },
    {
      "cell_type": "code",
      "source": [
        "model_2 = GradientBoostingClassifier(loss='deviance',\n",
        "                                   learning_rate=0.1,\n",
        "                                   n_estimators=200,\n",
        "                                   subsample=1,\n",
        "                                   min_samples_split=2,\n",
        "                                   max_depth=8\n",
        "                                   )"
      ],
      "metadata": {
        "id": "CpX6bssY8_NP"
      },
      "execution_count": null,
      "outputs": []
    },
    {
      "cell_type": "markdown",
      "source": [
        "***Увеличели колличество эстиматоров \"n_estimators\"***"
      ],
      "metadata": {
        "id": "uWG-_QKa9AIm"
      }
    },
    {
      "cell_type": "code",
      "source": [
        "model_2.fit(X_train, y_train)\n",
        "y_predicted = model_2.predict(X_val)\n",
        "print('cof_matrix: ', confusion_matrix(y_val, y_predicted))\n",
        "print('roc_auc_score: ', roc_auc_score(y_val, y_predicted))\n",
        "print('f1_score: ', f1_score(y_val, y_predicted))"
      ],
      "metadata": {
        "colab": {
          "base_uri": "https://localhost:8080/"
        },
        "id": "TxFOnNtS9A6d",
        "outputId": "f4ec3962-a322-41b6-9e99-62e75cd491fd"
      },
      "execution_count": null,
      "outputs": [
        {
          "output_type": "stream",
          "name": "stdout",
          "text": [
            "cof_matrix:  [[ 50   8]\n",
            " [  7 135]]\n",
            "roc_auc_score:  0.9063865954346769\n",
            "f1_score:  0.9473684210526315\n"
          ]
        }
      ]
    },
    {
      "cell_type": "code",
      "source": [
        "model_3 = GradientBoostingClassifier(loss='deviance',\n",
        "                                   learning_rate=0.25,\n",
        "                                   n_estimators=200,\n",
        "                                   subsample=1,\n",
        "                                   min_samples_split=2,\n",
        "                                   max_depth=8\n",
        "                                   )"
      ],
      "metadata": {
        "id": "WKGYBag79pXI"
      },
      "execution_count": null,
      "outputs": []
    },
    {
      "cell_type": "markdown",
      "source": [
        "***Увеличили \"learning_rate\"***"
      ],
      "metadata": {
        "id": "pf66xZZX9p8S"
      }
    },
    {
      "cell_type": "code",
      "source": [
        "model_3.fit(X_train, y_train)\n",
        "y_predicted = model_3.predict(X_val)\n",
        "print('cof_matrix: ', confusion_matrix(y_val, y_predicted))\n",
        "print('roc_auc_score: ', roc_auc_score(y_val, y_predicted))\n",
        "print('f1_score: ', f1_score(y_val, y_predicted))"
      ],
      "metadata": {
        "colab": {
          "base_uri": "https://localhost:8080/"
        },
        "id": "QsJtp7i09q_F",
        "outputId": "cd07bbec-5223-4452-b471-74c32b6171d3"
      },
      "execution_count": null,
      "outputs": [
        {
          "output_type": "stream",
          "name": "stdout",
          "text": [
            "cof_matrix:  [[ 49   9]\n",
            " [  5 137]]\n",
            "roc_auc_score:  0.9048081593006314\n",
            "f1_score:  0.951388888888889\n"
          ]
        }
      ]
    },
    {
      "cell_type": "markdown",
      "source": [
        "**ВЫВОД: Для данной выборки и модели максимальное улучшение дало увеличение глубины \"max_depth\", прочие параметры не так сильно повлияли**"
      ],
      "metadata": {
        "id": "SfTDt7fa-CFL"
      }
    }
  ]
}