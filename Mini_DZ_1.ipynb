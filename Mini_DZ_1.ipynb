{
  "nbformat": 4,
  "nbformat_minor": 0,
  "metadata": {
    "colab": {
      "name": "Копия блокнота \"Mini DZ 1.ipynb\"",
      "provenance": [],
      "collapsed_sections": []
    },
    "kernelspec": {
      "name": "python3",
      "display_name": "Python 3"
    },
    "language_info": {
      "name": "python"
    }
  },
  "cells": [
    {
      "cell_type": "markdown",
      "metadata": {
        "id": "ex42v9Htv1_O"
      },
      "source": [
        "# Мини ДЗ 1\n",
        "Выполните решение задач в соответствующих ячейках (помечены комментарием \"# Ваш код здесь\". Ваш ответ должен совпадать с тем, что указано в выходе ячейки.\n"
      ]
    },
    {
      "cell_type": "markdown",
      "metadata": {
        "id": "ZcHyICciQKqo"
      },
      "source": [
        "## Формат сдачи \n",
        "Формат сдачи - ссылка на гугл-колаб в google classroom. \n",
        "Видео с инструкцией по сдаче ДЗ (ДЗ которые в Jupyter Notebook / Colab): https://youtu.be/qnmQMrFOywU\n",
        "\n",
        "УБЕДИТЕЛЬНАЯ ПРОСЬБА - убедитесь что открыт доступ к **просмотру и комментированию** вашего ноутбука (сверху справа страницы в colab есть раздел \"Поделиться\"->нажать на кнопку \"Поделиться\" справа вверху, затем на кнопку кнопка \"Изменить\" и дать права \"Комментатор\" для всех, у кого есть ссылка). После этого нужно нажать на кнопку \"Готово\"."
      ]
    },
    {
      "cell_type": "markdown",
      "metadata": {
        "id": "JM1vrqOOXhvJ"
      },
      "source": [
        "# Часть 1\n",
        "**В этой части можно использовать только NUMPY библиотеку, все математические операции также вызываем из Numpy (исключение - операции @ и *)** \n",
        "\n",
        "Инициализация массивов только через numpy array: Например, a = np.array([1,2,3,4])"
      ]
    },
    {
      "cell_type": "code",
      "metadata": {
        "id": "gzzUqZIKvdFG"
      },
      "source": [
        "import numpy as np"
      ],
      "execution_count": null,
      "outputs": []
    },
    {
      "cell_type": "code",
      "source": [
        ""
      ],
      "metadata": {
        "id": "1dY1uCSTqul0"
      },
      "execution_count": null,
      "outputs": []
    },
    {
      "cell_type": "markdown",
      "metadata": {
        "id": "Nw-wdVUovuZ5"
      },
      "source": [
        "## Задача 1.1\n",
        "**Стоимость - 1 балл**\n",
        "\n",
        "**Задание:** создайте и выведите последовательность чисел от 10 до 20 с постоянным шагом, длина последовательности - 21.\n",
        "\n",
        "**Решение:**"
      ]
    },
    {
      "cell_type": "code",
      "metadata": {
        "colab": {
          "base_uri": "https://localhost:8080/"
        },
        "id": "BrdsHSdBvwNz",
        "outputId": "086b64e6-a1eb-4727-ce15-7c97b1e425bd"
      },
      "source": [
        "# Ваш код здесь\n",
        "a_array = np.linspace(10,20,21)\n",
        "a_array"
      ],
      "execution_count": null,
      "outputs": [
        {
          "output_type": "execute_result",
          "data": {
            "text/plain": [
              "array([10. , 10.5, 11. , 11.5, 12. , 12.5, 13. , 13.5, 14. , 14.5, 15. ,\n",
              "       15.5, 16. , 16.5, 17. , 17.5, 18. , 18.5, 19. , 19.5, 20. ])"
            ]
          },
          "metadata": {},
          "execution_count": 5
        }
      ]
    },
    {
      "cell_type": "markdown",
      "metadata": {
        "id": "lF8OZC2Nvg4C"
      },
      "source": [
        "## Задача 1.2.\n",
        "\n",
        "**Стоимость - 1 балл**\n",
        "\n",
        "**Задание:** создайте матрицы $\\begin{pmatrix} -3 & 4 \\\\ 4 & 3 \\end{pmatrix}$ и $\\begin{pmatrix} 2 & 1 \\\\ 1 & 2 \\end{pmatrix}$. Посчитайте их поэлементное и матричное произведения.\n",
        "\n",
        "**Решение:**"
      ]
    },
    {
      "cell_type": "code",
      "metadata": {
        "colab": {
          "base_uri": "https://localhost:8080/"
        },
        "id": "v9WvB-d6vhKn",
        "outputId": "b29d1bf4-47ec-490e-c158-7590d72e5fdf"
      },
      "source": [
        "# Ваш код здесь\n",
        "b_array = np.array([[-3,4],[4,3]])\n",
        "c_array = np.array([[2,1],[1,2]])\n",
        "print(b_array*c_array)\n",
        "print(c_array*b_array)\n",
        "print(np.dot(b_array,c_array))\n",
        "print(np.dot(c_array,b_array))"
      ],
      "execution_count": null,
      "outputs": [
        {
          "output_type": "stream",
          "name": "stdout",
          "text": [
            "[[-6  4]\n",
            " [ 4  6]]\n",
            "[[-6  4]\n",
            " [ 4  6]]\n",
            "[[-2  5]\n",
            " [11 10]]\n",
            "[[-2 11]\n",
            " [ 5 10]]\n"
          ]
        }
      ]
    },
    {
      "cell_type": "markdown",
      "metadata": {
        "id": "Q3linbf_XnxG"
      },
      "source": [
        "# Часть 2\n",
        "\n",
        "В этой части можно использовать numpy, pandas и matplotlib/seaborn (на выбор)"
      ]
    },
    {
      "cell_type": "code",
      "metadata": {
        "id": "3yWjCr4QXpa6"
      },
      "source": [
        "import numpy as np\n",
        "import pandas as pd\n",
        "import matplotlib.pyplot as plt\n",
        "import seaborn as sns"
      ],
      "execution_count": null,
      "outputs": []
    },
    {
      "cell_type": "markdown",
      "metadata": {
        "id": "8WuoFJcjYX0O"
      },
      "source": [
        "Дано следующее распределение `data`"
      ]
    },
    {
      "cell_type": "code",
      "metadata": {
        "colab": {
          "base_uri": "https://localhost:8080/"
        },
        "id": "e7uCRzjBYTz6",
        "outputId": "97c3453f-c589-4385-80d1-243896cc8a5e"
      },
      "source": [
        "np.random.seed(42)\n",
        "\n",
        "# сгенерируем данные\n",
        "spread = np.random.rand(3) * 10\n",
        "center = np.ones(10) * 100\n",
        "high = np.random.rand(2) * 100 + 100\n",
        "low = np.random.rand(2) * -100\n",
        "data = np.concatenate((spread, center, high, low))\n",
        "data"
      ],
      "execution_count": null,
      "outputs": [
        {
          "output_type": "execute_result",
          "data": {
            "text/plain": [
              "array([  3.74540119,   9.50714306,   7.31993942, 100.        ,\n",
              "       100.        , 100.        , 100.        , 100.        ,\n",
              "       100.        , 100.        , 100.        , 100.        ,\n",
              "       100.        , 159.86584842, 115.60186404, -15.59945203,\n",
              "        -5.80836122])"
            ]
          },
          "metadata": {},
          "execution_count": 18
        }
      ]
    },
    {
      "cell_type": "markdown",
      "metadata": {
        "id": "Dq93OlYMYoDh"
      },
      "source": [
        "## Задача 1\n",
        "**Стоимость - 1 балл**\n",
        "\n",
        "**Задание:** Постройте boxplot для распределения `data`. Добавьте название графика. Можете использовать matplotlib или seaborn (по желанию)\n",
        "\n",
        "**Решение:**"
      ]
    },
    {
      "cell_type": "code",
      "metadata": {
        "colab": {
          "base_uri": "https://localhost:8080/",
          "height": 493
        },
        "id": "NTl_xpv9ZeRs",
        "outputId": "fcca7d3c-0b80-4942-b08d-36137efcfdd1"
      },
      "source": [
        "# Ваш код здесь\n",
        "plt.figure(dpi=125)\n",
        "plt.title(\"Some name\")\n",
        "sns.boxplot(data=data, orient=\"h\")"
      ],
      "execution_count": null,
      "outputs": [
        {
          "output_type": "execute_result",
          "data": {
            "text/plain": [
              "<matplotlib.axes._subplots.AxesSubplot at 0x7f27283ac690>"
            ]
          },
          "metadata": {},
          "execution_count": 43
        },
        {
          "output_type": "display_data",
          "data": {
            "image/png": "[encoded data removed]",
            "text/plain": [
              "<Figure size 750x500 with 1 Axes>"
            ]
          },
          "metadata": {
            "needs_background": "light"
          }
        }
      ]
    }
  ]
}